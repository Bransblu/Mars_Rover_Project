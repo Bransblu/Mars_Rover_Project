{
 "cells": [
  {
   "cell_type": "code",
   "execution_count": 163,
   "id": "fd682f38-5647-4677-8eb4-1bbedf802229",
   "metadata": {},
   "outputs": [],
   "source": [
    "import requests\n",
    "import pandas as pd\n",
    "from datetime import date\n",
    "from config import api_key\n",
    "from citipy import citipy\n",
    "import json\n",
    "import numpy as np\n",
    "from PIL import Image\n",
    "from io import BytesIO\n",
    "import urllib.request"
   ]
  },
  {
   "cell_type": "code",
   "execution_count": 152,
   "id": "cf626437-d56b-4b0c-8291-dc6e43a035ad",
   "metadata": {},
   "outputs": [],
   "source": [
    "#lats = np.random.uniform(low=-90.000, high=90.000, size=1500)\n",
    "#lngs = np.random.uniform(low=-180.000, high=180.000, size=1500)\n",
    "#lat_lngs = zip(lats, lngs)\n",
    "#lat_lngs"
   ]
  },
  {
   "cell_type": "code",
   "execution_count": 153,
   "id": "80302233-b4a2-42bc-aaa2-c70158a8a866",
   "metadata": {},
   "outputs": [],
   "source": [
    "#coordinates = list(lat_lngs)"
   ]
  },
  {
   "cell_type": "code",
   "execution_count": 154,
   "id": "dc21a301-d47e-40d8-bf6c-def3fe8fa861",
   "metadata": {},
   "outputs": [
    {
     "data": {
      "text/plain": [
       "'2022-05-01'"
      ]
     },
     "execution_count": 154,
     "metadata": {},
     "output_type": "execute_result"
    }
   ],
   "source": [
    "today = date.today()\n",
    "todays_date = today.strftime(\"%Y-%m-%d\")\n",
    "todays_date"
   ]
  },
  {
   "cell_type": "code",
   "execution_count": 155,
   "id": "f1fdc06f-18f5-49b0-ae80-fa8537f4e5cf",
   "metadata": {
    "tags": []
   },
   "outputs": [],
   "source": [
    "earth_dates_url = \"https://api.nasa.gov/EPIC/api/natural/all?api_key=\" + api_key\n",
    "earth_info_url = \"https://api.nasa.gov/EPIC/api/natural/date/2022-04-30?api_key=\" + api_key\n",
    "mars_curiosity = \"https://api.nasa.gov/mars-photos/api/v1/rovers/curiosity/photos?earth_date=\" + todays_date + \"&api_key=\" + api_key\n",
    "response = requests.get(mars_curiosity).text"
   ]
  },
  {
   "cell_type": "code",
   "execution_count": null,
   "id": "98d79051-65ae-488a-b412-df543e94371a",
   "metadata": {
    "collapsed": true,
    "jupyter": {
     "outputs_hidden": true
    },
    "tags": []
   },
   "outputs": [],
   "source": [
    "response_info = json.loads(response)\n",
    "response_info['photos']"
   ]
  },
  {
   "cell_type": "code",
   "execution_count": 159,
   "id": "ecde80ad-e4f2-4295-9a89-f80bff52d23d",
   "metadata": {},
   "outputs": [],
   "source": [
    "image_list = []\n",
    "\n",
    "for image_info in response_info['photos']:\n",
    "    image_list.append([image_info['img_src'], image_info['earth_date'], image_info['camera']['full_name']])"
   ]
  },
  {
   "cell_type": "code",
   "execution_count": null,
   "id": "a51d42e6-5fb8-4879-b3fc-a835dd9b24c0",
   "metadata": {
    "tags": []
   },
   "outputs": [],
   "source": [
    "image_list"
   ]
  },
  {
   "cell_type": "code",
   "execution_count": 165,
   "id": "7a67b35f-c50c-47c5-84b1-178b81c33d65",
   "metadata": {},
   "outputs": [
    {
     "data": {
      "text/plain": [
       "('Images/Mars.jpg', <http.client.HTTPMessage at 0x23b9c7d2488>)"
      ]
     },
     "execution_count": 165,
     "metadata": {},
     "output_type": "execute_result"
    }
   ],
   "source": [
    "urllib.request.urlretrieve(\"https://mars.nasa.gov/msl-raw-images/proj/msl/redops/ods/surface/sol/03460/opgs/edr/ncam/NRB_704648639EDR_M0941854NCAM00580M_.JPG\", \"Images/Mars.jpg\")"
   ]
  },
  {
   "cell_type": "code",
   "execution_count": 161,
   "id": "9d8cebaf-7223-4036-85d5-6baa6149af76",
   "metadata": {},
   "outputs": [],
   "source": [
    "image_df = pd.DataFrame(data=image_list, columns=['Image', 'Date', 'Camera'])"
   ]
  },
  {
   "cell_type": "code",
   "execution_count": 162,
   "id": "2a7e5a14-6a4d-4287-b7c6-9cfc24e3589d",
   "metadata": {
    "collapsed": true,
    "jupyter": {
     "outputs_hidden": true
    },
    "tags": []
   },
   "outputs": [
    {
     "data": {
      "text/html": [
       "<div>\n",
       "<style scoped>\n",
       "    .dataframe tbody tr th:only-of-type {\n",
       "        vertical-align: middle;\n",
       "    }\n",
       "\n",
       "    .dataframe tbody tr th {\n",
       "        vertical-align: top;\n",
       "    }\n",
       "\n",
       "    .dataframe thead th {\n",
       "        text-align: right;\n",
       "    }\n",
       "</style>\n",
       "<table border=\"1\" class=\"dataframe\">\n",
       "  <thead>\n",
       "    <tr style=\"text-align: right;\">\n",
       "      <th></th>\n",
       "      <th>Image</th>\n",
       "      <th>Date</th>\n",
       "      <th>Camera</th>\n",
       "    </tr>\n",
       "  </thead>\n",
       "  <tbody>\n",
       "    <tr>\n",
       "      <th>0</th>\n",
       "      <td>https://mars.nasa.gov/msl-raw-images/proj/msl/...</td>\n",
       "      <td>2022-05-01</td>\n",
       "      <td>Navigation Camera</td>\n",
       "    </tr>\n",
       "    <tr>\n",
       "      <th>1</th>\n",
       "      <td>https://mars.nasa.gov/msl-raw-images/proj/msl/...</td>\n",
       "      <td>2022-05-01</td>\n",
       "      <td>Navigation Camera</td>\n",
       "    </tr>\n",
       "    <tr>\n",
       "      <th>2</th>\n",
       "      <td>https://mars.nasa.gov/msl-raw-images/proj/msl/...</td>\n",
       "      <td>2022-05-01</td>\n",
       "      <td>Navigation Camera</td>\n",
       "    </tr>\n",
       "    <tr>\n",
       "      <th>3</th>\n",
       "      <td>https://mars.nasa.gov/msl-raw-images/proj/msl/...</td>\n",
       "      <td>2022-05-01</td>\n",
       "      <td>Navigation Camera</td>\n",
       "    </tr>\n",
       "    <tr>\n",
       "      <th>4</th>\n",
       "      <td>https://mars.nasa.gov/msl-raw-images/proj/msl/...</td>\n",
       "      <td>2022-05-01</td>\n",
       "      <td>Navigation Camera</td>\n",
       "    </tr>\n",
       "    <tr>\n",
       "      <th>5</th>\n",
       "      <td>https://mars.nasa.gov/msl-raw-images/proj/msl/...</td>\n",
       "      <td>2022-05-01</td>\n",
       "      <td>Navigation Camera</td>\n",
       "    </tr>\n",
       "    <tr>\n",
       "      <th>6</th>\n",
       "      <td>https://mars.nasa.gov/msl-raw-images/proj/msl/...</td>\n",
       "      <td>2022-05-01</td>\n",
       "      <td>Navigation Camera</td>\n",
       "    </tr>\n",
       "    <tr>\n",
       "      <th>7</th>\n",
       "      <td>https://mars.nasa.gov/msl-raw-images/proj/msl/...</td>\n",
       "      <td>2022-05-01</td>\n",
       "      <td>Navigation Camera</td>\n",
       "    </tr>\n",
       "    <tr>\n",
       "      <th>8</th>\n",
       "      <td>https://mars.nasa.gov/msl-raw-images/proj/msl/...</td>\n",
       "      <td>2022-05-01</td>\n",
       "      <td>Navigation Camera</td>\n",
       "    </tr>\n",
       "    <tr>\n",
       "      <th>9</th>\n",
       "      <td>https://mars.nasa.gov/msl-raw-images/proj/msl/...</td>\n",
       "      <td>2022-05-01</td>\n",
       "      <td>Navigation Camera</td>\n",
       "    </tr>\n",
       "    <tr>\n",
       "      <th>10</th>\n",
       "      <td>https://mars.nasa.gov/msl-raw-images/proj/msl/...</td>\n",
       "      <td>2022-05-01</td>\n",
       "      <td>Navigation Camera</td>\n",
       "    </tr>\n",
       "    <tr>\n",
       "      <th>11</th>\n",
       "      <td>https://mars.nasa.gov/msl-raw-images/proj/msl/...</td>\n",
       "      <td>2022-05-01</td>\n",
       "      <td>Navigation Camera</td>\n",
       "    </tr>\n",
       "    <tr>\n",
       "      <th>12</th>\n",
       "      <td>https://mars.nasa.gov/msl-raw-images/proj/msl/...</td>\n",
       "      <td>2022-05-01</td>\n",
       "      <td>Navigation Camera</td>\n",
       "    </tr>\n",
       "    <tr>\n",
       "      <th>13</th>\n",
       "      <td>https://mars.nasa.gov/msl-raw-images/proj/msl/...</td>\n",
       "      <td>2022-05-01</td>\n",
       "      <td>Navigation Camera</td>\n",
       "    </tr>\n",
       "    <tr>\n",
       "      <th>14</th>\n",
       "      <td>https://mars.nasa.gov/msl-raw-images/proj/msl/...</td>\n",
       "      <td>2022-05-01</td>\n",
       "      <td>Navigation Camera</td>\n",
       "    </tr>\n",
       "    <tr>\n",
       "      <th>15</th>\n",
       "      <td>https://mars.nasa.gov/msl-raw-images/proj/msl/...</td>\n",
       "      <td>2022-05-01</td>\n",
       "      <td>Navigation Camera</td>\n",
       "    </tr>\n",
       "    <tr>\n",
       "      <th>16</th>\n",
       "      <td>https://mars.nasa.gov/msl-raw-images/proj/msl/...</td>\n",
       "      <td>2022-05-01</td>\n",
       "      <td>Navigation Camera</td>\n",
       "    </tr>\n",
       "    <tr>\n",
       "      <th>17</th>\n",
       "      <td>https://mars.nasa.gov/msl-raw-images/proj/msl/...</td>\n",
       "      <td>2022-05-01</td>\n",
       "      <td>Navigation Camera</td>\n",
       "    </tr>\n",
       "    <tr>\n",
       "      <th>18</th>\n",
       "      <td>https://mars.nasa.gov/msl-raw-images/proj/msl/...</td>\n",
       "      <td>2022-05-01</td>\n",
       "      <td>Navigation Camera</td>\n",
       "    </tr>\n",
       "    <tr>\n",
       "      <th>19</th>\n",
       "      <td>https://mars.nasa.gov/msl-raw-images/proj/msl/...</td>\n",
       "      <td>2022-05-01</td>\n",
       "      <td>Navigation Camera</td>\n",
       "    </tr>\n",
       "    <tr>\n",
       "      <th>20</th>\n",
       "      <td>https://mars.nasa.gov/msl-raw-images/proj/msl/...</td>\n",
       "      <td>2022-05-01</td>\n",
       "      <td>Navigation Camera</td>\n",
       "    </tr>\n",
       "    <tr>\n",
       "      <th>21</th>\n",
       "      <td>https://mars.nasa.gov/msl-raw-images/proj/msl/...</td>\n",
       "      <td>2022-05-01</td>\n",
       "      <td>Navigation Camera</td>\n",
       "    </tr>\n",
       "    <tr>\n",
       "      <th>22</th>\n",
       "      <td>https://mars.nasa.gov/msl-raw-images/proj/msl/...</td>\n",
       "      <td>2022-05-01</td>\n",
       "      <td>Navigation Camera</td>\n",
       "    </tr>\n",
       "    <tr>\n",
       "      <th>23</th>\n",
       "      <td>https://mars.nasa.gov/msl-raw-images/proj/msl/...</td>\n",
       "      <td>2022-05-01</td>\n",
       "      <td>Navigation Camera</td>\n",
       "    </tr>\n",
       "    <tr>\n",
       "      <th>24</th>\n",
       "      <td>https://mars.nasa.gov/msl-raw-images/proj/msl/...</td>\n",
       "      <td>2022-05-01</td>\n",
       "      <td>Navigation Camera</td>\n",
       "    </tr>\n",
       "  </tbody>\n",
       "</table>\n",
       "</div>"
      ],
      "text/plain": [
       "                                                Image        Date  \\\n",
       "0   https://mars.nasa.gov/msl-raw-images/proj/msl/...  2022-05-01   \n",
       "1   https://mars.nasa.gov/msl-raw-images/proj/msl/...  2022-05-01   \n",
       "2   https://mars.nasa.gov/msl-raw-images/proj/msl/...  2022-05-01   \n",
       "3   https://mars.nasa.gov/msl-raw-images/proj/msl/...  2022-05-01   \n",
       "4   https://mars.nasa.gov/msl-raw-images/proj/msl/...  2022-05-01   \n",
       "5   https://mars.nasa.gov/msl-raw-images/proj/msl/...  2022-05-01   \n",
       "6   https://mars.nasa.gov/msl-raw-images/proj/msl/...  2022-05-01   \n",
       "7   https://mars.nasa.gov/msl-raw-images/proj/msl/...  2022-05-01   \n",
       "8   https://mars.nasa.gov/msl-raw-images/proj/msl/...  2022-05-01   \n",
       "9   https://mars.nasa.gov/msl-raw-images/proj/msl/...  2022-05-01   \n",
       "10  https://mars.nasa.gov/msl-raw-images/proj/msl/...  2022-05-01   \n",
       "11  https://mars.nasa.gov/msl-raw-images/proj/msl/...  2022-05-01   \n",
       "12  https://mars.nasa.gov/msl-raw-images/proj/msl/...  2022-05-01   \n",
       "13  https://mars.nasa.gov/msl-raw-images/proj/msl/...  2022-05-01   \n",
       "14  https://mars.nasa.gov/msl-raw-images/proj/msl/...  2022-05-01   \n",
       "15  https://mars.nasa.gov/msl-raw-images/proj/msl/...  2022-05-01   \n",
       "16  https://mars.nasa.gov/msl-raw-images/proj/msl/...  2022-05-01   \n",
       "17  https://mars.nasa.gov/msl-raw-images/proj/msl/...  2022-05-01   \n",
       "18  https://mars.nasa.gov/msl-raw-images/proj/msl/...  2022-05-01   \n",
       "19  https://mars.nasa.gov/msl-raw-images/proj/msl/...  2022-05-01   \n",
       "20  https://mars.nasa.gov/msl-raw-images/proj/msl/...  2022-05-01   \n",
       "21  https://mars.nasa.gov/msl-raw-images/proj/msl/...  2022-05-01   \n",
       "22  https://mars.nasa.gov/msl-raw-images/proj/msl/...  2022-05-01   \n",
       "23  https://mars.nasa.gov/msl-raw-images/proj/msl/...  2022-05-01   \n",
       "24  https://mars.nasa.gov/msl-raw-images/proj/msl/...  2022-05-01   \n",
       "\n",
       "               Camera  \n",
       "0   Navigation Camera  \n",
       "1   Navigation Camera  \n",
       "2   Navigation Camera  \n",
       "3   Navigation Camera  \n",
       "4   Navigation Camera  \n",
       "5   Navigation Camera  \n",
       "6   Navigation Camera  \n",
       "7   Navigation Camera  \n",
       "8   Navigation Camera  \n",
       "9   Navigation Camera  \n",
       "10  Navigation Camera  \n",
       "11  Navigation Camera  \n",
       "12  Navigation Camera  \n",
       "13  Navigation Camera  \n",
       "14  Navigation Camera  \n",
       "15  Navigation Camera  \n",
       "16  Navigation Camera  \n",
       "17  Navigation Camera  \n",
       "18  Navigation Camera  \n",
       "19  Navigation Camera  \n",
       "20  Navigation Camera  \n",
       "21  Navigation Camera  \n",
       "22  Navigation Camera  \n",
       "23  Navigation Camera  \n",
       "24  Navigation Camera  "
      ]
     },
     "execution_count": 162,
     "metadata": {},
     "output_type": "execute_result"
    }
   ],
   "source": [
    "image_df"
   ]
  },
  {
   "cell_type": "code",
   "execution_count": null,
   "id": "c85cda36-43c1-4370-b641-050fef4a2b5a",
   "metadata": {
    "collapsed": true,
    "jupyter": {
     "outputs_hidden": true
    },
    "tags": []
   },
   "outputs": [],
   "source": [
    "# Parse out data\n",
    "response_info"
   ]
  },
  {
   "cell_type": "code",
   "execution_count": null,
   "id": "f3ab29a5-4a6f-4ac3-98dd-6cde43b1f187",
   "metadata": {
    "collapsed": true,
    "jupyter": {
     "outputs_hidden": true
    },
    "tags": []
   },
   "outputs": [],
   "source": [
    "mars_curiosity = requests.get(mars_curiosity)\n",
    "mars_curiosity.json()"
   ]
  },
  {
   "cell_type": "code",
   "execution_count": null,
   "id": "d4af062e-a246-41a1-ac05-ef8d403cad78",
   "metadata": {},
   "outputs": [],
   "source": []
  },
  {
   "cell_type": "code",
   "execution_count": null,
   "id": "6d24bc8b-f70d-4b6f-9ac6-27b7cc00c4d1",
   "metadata": {},
   "outputs": [],
   "source": [
    "#response_api = requests.get(url)\n",
    "#print(response_api.status_code)"
   ]
  },
  {
   "cell_type": "code",
   "execution_count": null,
   "id": "483d05cb-e821-4699-9edc-16b49f484a8d",
   "metadata": {},
   "outputs": [],
   "source": []
  }
 ],
 "metadata": {
  "kernelspec": {
   "display_name": "PythonData",
   "language": "python",
   "name": "pythondata"
  },
  "language_info": {
   "codemirror_mode": {
    "name": "ipython",
    "version": 3
   },
   "file_extension": ".py",
   "mimetype": "text/x-python",
   "name": "python",
   "nbconvert_exporter": "python",
   "pygments_lexer": "ipython3",
   "version": "3.7.11"
  }
 },
 "nbformat": 4,
 "nbformat_minor": 5
}
